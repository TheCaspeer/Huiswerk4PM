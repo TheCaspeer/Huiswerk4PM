{
 "cells": [
  {
   "cell_type": "markdown",
   "id": "DJtNkIKkvK3w",
   "metadata": {
    "id": "DJtNkIKkvK3w",
    "tags": []
   },
   "source": [
    "# Module 4: Data analyse"
   ]
  },
  {
   "cell_type": "markdown",
   "id": "2e9ff57e",
   "metadata": {
    "id": "2e9ff57e"
   },
   "source": [
    "## *Inleverdatum: woensdag 11 december 2024 om 17.00*"
   ]
  },
  {
   "cell_type": "markdown",
   "id": "8b36f03b-ef6b-4689-9b45-4ee51cc902b9",
   "metadata": {
    "id": "8b36f03b-ef6b-4689-9b45-4ee51cc902b9"
   },
   "source": [
    "## Student gegevens"
   ]
  },
  {
   "cell_type": "markdown",
   "id": "9339df53-ff58-4080-9d91-3b2e5b89f72c",
   "metadata": {
    "id": "9339df53-ff58-4080-9d91-3b2e5b89f72c"
   },
   "source": [
    "#### *Naam:*\n",
    "\n",
    "#### *Studentnummer:*"
   ]
  },
  {
   "cell_type": "markdown",
   "id": "3dt5yNf-r6uH",
   "metadata": {
    "id": "3dt5yNf-r6uH",
    "tags": []
   },
   "source": [
    "## Algemene instructies"
   ]
  },
  {
   "cell_type": "markdown",
   "id": "4268798a-759c-4ff8-8b9c-e662b10a5f4e",
   "metadata": {
    "id": "4268798a-759c-4ff8-8b9c-e662b10a5f4e"
   },
   "source": [
    "### *Inzicht:*\n",
    "- Lees eerst de officiële documentatie van een bepaalde functionaliteit en parameters als je deze nog niet goed begrijpt. Gebruik daarna een zoekmachine om eventueel nog extra informatie en voorbeelden te vinden.\n",
    "- Stel vragen aan de docenten en student assistenten! Wij zijn er om jullie te helpen 😊.\n",
    "- Je kunt ook vragen stellen via het Brightspace Forum.\n",
    "- Discussies met medestudenten worden aangemoedigd, maar het kopiëren van elkaars code valt onder plagiaat en kan tot uitsluiting van het vak zorgen.\n",
    "\n",
    "### *Code:*\n",
    "- Zorg dat resultaten (bijv. specifieke waarden die moeten worden uitgerekend) altijd geprint worden met uitleg er bij. Gebruik daarbij f-strings met een schappelijk aantal decimalen.\n",
    "- Het gebruik van gevectoriseerde notatie is (indien mogelijk) altijd beter dan het gebruik van een expliciete for loop.\n",
    "- Voorkom het dupliceren van code door functies te definiëren zodat code makkelijk kan worden hergebruikt.\n",
    "\n",
    "### *Stijl:*\n",
    "- Zorg dat code duidelijk te lezen en te begrijpen is door een ander. Vraag zo nu en dan een medestudent om te controleren of dat het geval is.\n",
    "- Voeg compact maar inzichtelijk commentaar toe aan de code. Commentaar is bedoeld om extra uitleg te geven over waar een stuk code voor dient, hoe het werkt, en eventuele input en output.\n",
    "\n",
    "### *Plotten:*\n",
    "- Maak duidelijk en makkelijk te begrijpen plots. De standaardinstellingen van Matplotlib zijn vaak niet de beste instellingen.\n",
    "- Voeg altijd labels aan de assen toe met de grootheden en eventuele eenheden die worden weergegeven.\n",
    "- Voeg ook een legenda toe die de verschillende data beschrijft en eventueel een titel.\n",
    "- Kies duidelijk zichtbare en te onderscheiden symbolen, lijnstijlen, kleuren, etc.\n",
    "Pas eventueel de grootte en lengte-breedte verhouding van het figuur aan als dat de plot duidelijker maakt.\n",
    "\n",
    "### *Inleveren:*\n",
    "- Een antwoord in het notebook moet worden gegeven in één of meerdere cellen onder de vraag.\n",
    "- De opdrachten moeten worden ingeleverd op Brightspace als een enkel Jupyter notebook bestand. Zorg dat je de notebook inlevert bij de juiste module.\n",
    "- Zorg dat je voor het inleveren alle cellen in het notebook van begin tot einde nog een keer uitvoert. Cellen die een foutmelding geven, zullen niet worden nagekeken. Verwijder dus dergelijke cellen of maak er commentaar van.\n",
    "- Vergeet ook niet je naam en studentnummer aan het begin van de notebook in te vullen.\n",
    "\n",
    "### *Beoordeling:*\n",
    "- Er zijn in totaal 110 punten te behalen.\n",
    "- Bij te laat inleveren zal er 1,0 punt van het cijfer worden afgetrokken per dag te laat inleveren.\n",
    "- De beoordeling van de opgaven gaat niet alleen over het juiste resultaat, maar ook over de leesbaarheid en structuur van de code.\n",
    "- Zorg er voor dat de antwoorden in de notebook eenvoudig te begrijpen zijn en maak gebruik van commentaar om toe te lichten hoe een stuk code werkt en wat het uitvoert."
   ]
  },
  {
   "cell_type": "markdown",
   "id": "01067428",
   "metadata": {
    "id": "01067428"
   },
   "source": [
    "## Onderwerpen van deze notebook"
   ]
  },
  {
   "cell_type": "markdown",
   "id": "90fc131e-c3a3-4808-9e0c-374c22318de2",
   "metadata": {
    "id": "90fc131e-c3a3-4808-9e0c-374c22318de2"
   },
   "source": [
    "- Object georiënteerd programmeren\n",
    "- Klasse, constructor, methoden, data attributen, overerving\n",
    "- Uitzonderingsafhandeling, foutmelding creëren\n",
    "- Data inlezen uit CSV bestand met `np.loadtxt()` en `np.genfromtxt()`\n",
    "- Basis statistiek: `np.amin()`, `np.amax()`, `np.mean()`, `np.std()`\n",
    "- Data selectie, verwerken, plotten\n",
    "- Inzichten verkrijgen uit een dataset\n",
    "- Data interpoleren met `scipy.interpolate.interp1d()`\n",
    "- Data fitten met een model met `scipy.optimize.curve_fit()`\n",
    "- Model en meting met elkaar vergelijken"
   ]
  },
  {
   "cell_type": "markdown",
   "id": "85154377-de23-44cc-a111-b7496bbb7c11",
   "metadata": {
    "id": "85154377-de23-44cc-a111-b7496bbb7c11"
   },
   "source": [
    "## Opgaven en puntenverdeling"
   ]
  },
  {
   "cell_type": "markdown",
   "id": "442119ba-a3df-4279-a107-7a8ce6cf34b9",
   "metadata": {
    "id": "442119ba-a3df-4279-a107-7a8ce6cf34b9"
   },
   "source": [
    "- [Opdracht 1: Object georiënteerd programmeren](#oop) (20 punten)\n",
    "- [Opdracht 2: GPS data van een vliegtuig analyseren](#gps_data) (45 punten)\n",
    "  - Resultaat: 35 punten\n",
    "  - Stijl en structuur van code: 4 punten\n",
    "  - Commentaar en toelichtingen: 6 punten\n",
    "- [Opdracht 3: Ster spectrum fitten met de wet van Planck](#ster_spectrum) (45 punten)\n",
    "  - Resultaat: 35 punten\n",
    "  - Stijl en structuur van code: 4 punten\n",
    "  - Commentaar en toelichtingen: 6 punten"
   ]
  },
  {
   "cell_type": "markdown",
   "id": "cd50d423",
   "metadata": {
    "id": "cd50d423"
   },
   "source": [
    "## Importeren van Python modules"
   ]
  },
  {
   "cell_type": "markdown",
   "id": "e507be8d",
   "metadata": {
    "id": "e507be8d"
   },
   "source": [
    "We beginnen met het importeren van de [pyplot](https://matplotlib.org/stable/tutorials/introductory/pyplot.html) interface van [Matplotlib](https://matplotlib.org) en de [NumPy](https://numpy.org) bibliotheek."
   ]
  },
  {
   "cell_type": "code",
   "execution_count": 2,
   "id": "d82dc06a",
   "metadata": {
    "id": "d82dc06a"
   },
   "outputs": [],
   "source": [
    "import matplotlib.pyplot as plt\n",
    "import numpy as np"
   ]
  },
  {
   "cell_type": "markdown",
   "id": "d4f7f2b4",
   "metadata": {
    "id": "d4f7f2b4"
   },
   "source": [
    "## Opdracht 1: Object georiënteerd programmeren *(20 punten)* <a class='anchor' id='oop'></a>"
   ]
  },
  {
   "cell_type": "markdown",
   "id": "d6222fa6",
   "metadata": {
    "id": "d6222fa6"
   },
   "source": [
    "[Object georiënteerd programmeren](https://nl.wikipedia.org/wiki/Objectgeori%C3%ABnteerd) is en belangrijk concept binnen de Python programmeertaal. Hier hebben jullie al kennis mee gemaakt bij de derde module van Programmeermethode NA, maar bijvoorbeeld ook bij het uitvoeren van een methode op een `Axes` object van Matplotlib. Deze notebook begint met zeven opdrachten over het werken met klassen, methoden, data attributen, en overerving. Ben je nog niet vertrouwd met deze concepten? Lees dan eerst deze [achtergrond informatie](https://realpython.com/python3-object-oriented-programming/) aandachtig door."
   ]
  },
  {
   "cell_type": "markdown",
   "id": "f4091ea2",
   "metadata": {
    "id": "f4091ea2"
   },
   "source": [
    "**[a]** Maak een [klasse](https://docs.python.org/3/tutorial/classes.html#a-first-look-at-classes) die `Dier` heet en voeg er een *constructor* aan toe die als parameters `naam`, `kleur`, en `leeftijd` heeft. Zorg dat binnen de constructor de argumenten van `naam`, `kleur`, en `leeftijd` naar gelijknamige [data attributen](https://docs.python.org/3/tutorial/classes.html#instance-objects) worden geschreven. *(1 punt)*\n",
    "\n",
    "*Tip: vergeet niet `self` als eerste parameter mee te geven (zie bijvoorbeeld [deze uitleg](https://www.geeksforgeeks.org/self-in-python-class/)). De `self` parameter representeert de instantie en geeft toegang tot de methoden en data attributen van de klasse.*"
   ]
  },
  {
   "cell_type": "code",
   "execution_count": 3,
   "id": "2150e2bd",
   "metadata": {
    "id": "2150e2bd"
   },
   "outputs": [],
   "source": [
    "class Dier:\n",
    "    def __init__(self, naam, kleur,leeftijd):\n",
    "        self.naam = naam\n",
    "        self.kleur = kleur\n",
    "        self.leeftijd = leeftijd"
   ]
  },
  {
   "cell_type": "markdown",
   "id": "37ab4c51",
   "metadata": {
    "id": "37ab4c51"
   },
   "source": [
    "**[b]** Kopieer de `Dier` klasse uit de vorige vraag en voeg er een [methode](https://docs.python.org/3/tutorial/classes.html#method-objects) aan toe die `maak_geluid` heet. *(1 punt)*\n",
    "\n",
    "- De methode moet een `if` conditie bevatten die de waarde van het `naam` attribuut controleert\n",
    "- Als `naam` de waarde van `'kat'` heeft dan moet de methode *miauw* printen\n",
    "- Als de waarde `'hond'` is dan moet de methode *woef* printen\n",
    "- Als er een andere waarde voor `naam` is opgegeven dan moet er worden geprint dat er geen geluid voor dat dier bekend is"
   ]
  },
  {
   "cell_type": "code",
   "execution_count": 4,
   "id": "b43da5da",
   "metadata": {
    "id": "b43da5da"
   },
   "outputs": [],
   "source": [
    "class Dier:\n",
    "    def __init__(self, naam, kleur,leeftijd):\n",
    "        self.naam = naam\n",
    "        self.kleur = kleur\n",
    "        self.leeftijd = leeftijd\n",
    "\n",
    "    def maak_geluid(self):\n",
    "        if(self.naam == \"kat\"):\n",
    "            print(\"miauw\")\n",
    "        elif(self.naam == \"hond\"):\n",
    "            print(\"woef\")\n",
    "        else:\n",
    "            print(f\"what does the {self.naam} say? miimimimimii\")"
   ]
  },
  {
   "cell_type": "markdown",
   "id": "ebf7ac0b",
   "metadata": {
    "id": "ebf7ac0b"
   },
   "source": [
    "**[c]** Kopieer de `Dier` klasse uit vorige vraag en voeg er een methode aan toe die `verander_leeftijd` heet. *(1 punt)*\n",
    "\n",
    "- Aan deze methode moet de parameter `aantal_jaar` worden meegegeven\n",
    "- Het argument daarvan moet worden opgeteld bij de waarde van het `leeftijd` attribuut\n",
    "- Vervolgens moet de methode de nieuwe leeftijd teruggeven door gebruik te maken van `return`"
   ]
  },
  {
   "cell_type": "code",
   "execution_count": 5,
   "id": "a779f65c",
   "metadata": {
    "id": "a779f65c"
   },
   "outputs": [],
   "source": [
    "class Dier:\n",
    "    def __init__(self, naam: str, kleur: str, leeftijd: float) -> None:\n",
    "        \"\"\"\n",
    "        Initializes a new instance of the class.\n",
    "\n",
    "        Args:\n",
    "            naam (str): The name of the object.\n",
    "            kleur (str): The color of the object.\n",
    "            leeftijd (int): The age of the object in years.\n",
    "        \"\"\"\n",
    "        self.naam = naam\n",
    "        self.kleur = kleur\n",
    "        self.leeftijd = leeftijd\n",
    "\n",
    "    def maak_geluid(self):\n",
    "        if(self.naam == \"kat\"):\n",
    "            print(\"miauw\")\n",
    "        elif(self.naam == \"hond\"):\n",
    "            print(\"woef\")\n",
    "        else:\n",
    "            print(f\"what does the {self.naam} say? miimimimimii\")\n",
    "    \n",
    "    def verander_leeftijd(self, aantal_jaar:float):\n",
    "        self.leeftijd += aantal_jaar\n",
    "        return self.leeftijd"
   ]
  },
  {
   "cell_type": "markdown",
   "id": "920b0431",
   "metadata": {
    "id": "920b0431"
   },
   "source": [
    "**[d]** De `Dier` klasse is nu klaar! Maak nu een [object](https://docs.python.org/3/tutorial/classes.html#instance-objects) van de klasse voor een zwarte kat die 5 jaar is. *(1 punt)*\n",
    "\n",
    "- Schrijf het object naar een variabele genaamd `zwarte_kat`\n",
    "- Voer vervolgens de `maak_geluid` methode uit op gecreëerde object\n",
    "\n",
    "*Tip: Aangezien de klasse in de vorige cel al is gedefinieerd hoeft deze niet gekopieerd te worden naar een nieuwe cel want dat zou voor onnodig lange code zorgen.*"
   ]
  },
  {
   "cell_type": "code",
   "execution_count": 6,
   "id": "fabd33e5",
   "metadata": {
    "colab": {
     "base_uri": "https://localhost:8080/"
    },
    "id": "fabd33e5",
    "outputId": "c7c0868d-59d6-4756-cd4f-5a8f15098e8f"
   },
   "outputs": [
    {
     "name": "stdout",
     "output_type": "stream",
     "text": [
      "miauw\n"
     ]
    }
   ],
   "source": [
    "zwarte_kat = Dier(\"kat\", \"zwart\", 5)\n",
    "zwarte_kat.maak_geluid()"
   ]
  },
  {
   "cell_type": "markdown",
   "id": "c6bee280",
   "metadata": {
    "id": "c6bee280"
   },
   "source": [
    "**[e]** Maak opnieuw een object van de `Dier` klasse, maar nu voor een bruine hond van 8 jaar oud. *(1 punt)*\n",
    "\n",
    "- Schrijf het object naar een variabele genaamd `bruine_hond`\n",
    "- Voer vervolgens de `verander_leeftijd` methode uit door de leeftijd van de hond met 1,5 jaar te verhogen\n",
    "- Schrijf de nieuwe leeftijd naar een variabele genaamd `leeftijd_hond`\n",
    "- Print uiteraard het resultaat in een duidelijk formaat (zie *Algemene instructies*)"
   ]
  },
  {
   "cell_type": "code",
   "execution_count": 7,
   "id": "ac4bd5c9",
   "metadata": {
    "colab": {
     "base_uri": "https://localhost:8080/"
    },
    "id": "ac4bd5c9",
    "outputId": "7c258250-6ee7-4dc8-ef6f-776ff8dfd466"
   },
   "outputs": [
    {
     "name": "stdout",
     "output_type": "stream",
     "text": [
      "De leeftijd van de bruine hond is 9.5\n"
     ]
    }
   ],
   "source": [
    "bruine_hond = Dier(\"hond\", \"bruin\", 8)\n",
    "bruine_hond.verander_leeftijd(1.5)\n",
    "print(f\"De leeftijd van de bruine hond is {bruine_hond.leeftijd:.1f}\")"
   ]
  },
  {
   "cell_type": "markdown",
   "id": "ad63add8-a40f-4f2b-8594-086e5b345d9d",
   "metadata": {},
   "source": [
    "**[f]** Maak nu een geheel nieuwe klasse die de eigenschappen van een product bevat. (*5 punten*)\n",
    "\n",
    "- Noem de klasse `Product` en geef de `product` en `prijs` parameters mee met de initialisatie.\n",
    "- Voeg de `__repr__` methode toe (zie [uitleg](https://www.geeksforgeeks.org/python-__repr__-magic-method/)) en zorg dat `product` en `prijs` in een zin geprint worden met behulp van [f-strings](https://realpython.com/python-f-strings/).\n",
    "- Voeg de `verander_prijs()` methode toe met als parameter `nieuwe_prijs`. Deze methode moet de prijs van het product aanpassen.\n",
    "- Test de klasse door een [object](https://docs.python.org/3/tutorial/classes.html#instance-objects) te maken voor een tafel met als prijs 89 euro. Schijf het object naar een variabele genaamd `tafel`.\n",
    "- Verander de prijs naar 79 euro met de `verander_prijs()` methode en laat zien dat het `prijs` attribuut inderdaad is veranderd door het object te printen, dus `print(tafel)`."
   ]
  },
  {
   "cell_type": "code",
   "execution_count": 8,
   "id": "ff5c55c8-1da7-4d32-a7ae-59bdd81d2f76",
   "metadata": {},
   "outputs": [
    {
     "name": "stdout",
     "output_type": "stream",
     "text": [
      "Het product is een tafel en het kost 89.00 euro.\n",
      "\n",
      "Het product is een tafel en het kost 79.00 euro.\n"
     ]
    }
   ],
   "source": [
    "class Product:\n",
    "    def __init__(self, product: str, prijs: float) -> None:\n",
    "        self.product = product\n",
    "        self.prijs = prijs\n",
    "\n",
    "    def __repr__(self) -> str:\n",
    "        return f\"Het product is een {self.product} en het kost {self.prijs:.2f} euro.\"\n",
    "    \n",
    "    def verander_prijs(self,nieuwe_prijs:float):\n",
    "        self.prijs = nieuwe_prijs\n",
    "\n",
    "tafel = Product(\"tafel\", 89)\n",
    "print(repr(tafel))\n",
    "tafel.verander_prijs(79)\n",
    "print(\"\") # empty line omdat ik een \\n in de strings lelijk vind maar wel ruimte dr tussen wil \n",
    "print(repr(tafel))\n",
    "\n"
   ]
  },
  {
   "cell_type": "markdown",
   "id": "d6450462-0753-4796-a9da-768d7d28dceb",
   "metadata": {},
   "source": [
    "**[g]** Maak nu een nieuwe klasse genaamde `Computer` die als subklasse zal dienen van de `Product` klasse. De `Product` klasse dient dus als *parent* klasse van `Computer`. Via [overerving](https://nl.wikipedia.org/wiki/Overerving_(informatica)) (=*inheritance*) kan de `Computer` klasse van de eigenschappen en methoden van de `Product` klasse gebruikmaken. Bekijk eerst [deze video](https://realpython.com/videos/inheritance-in-python/) en lees voor meer informatie [deze pagina](https://realpython.com/inheritance-composition-python/). (*10 punten*)\n",
    "\n",
    "- Maak de `Computer` klasse en zorg dat deze van `Product` zal overerven.\n",
    "- Geef de `prijs` en `**computer_kwargs` parameters mee met de initialisatie. Met de `**computer_kwargs` moeten de `cpu`, `opslag`, en `geheugen` attributen van de `Computer` worden ingesteld (lees eventueel de uitleg over [**kwargs](https://www.geeksforgeeks.org/args-kwargs-python/)). Voeg [uitzonderingen](https://realpython.com/python-exceptions/) toe die een `ValueError` geven als een parameter ontbreekt in `**computer_kwargs`.\n",
    "- Gebruik de ingebouwde `super()` functie (zie [uitleg](https://www.geeksforgeeks.org/python-super/)) om het argument van `product` in de `Product` klasse op *'computer'* te zetten en de prijs mee te geven aan het `Product`.\n",
    "- Voeg de `inclusief_monitor` en `monitor_resolutie` attributen toe aan de initialisatie en zet deze op `False` en `None`, respectievelijk.\n",
    "- Voeg nu de `monitor_toevoegen()` en `monitor_verwijderen()` methoden toe. Deze moeten de `inclusief_monitor` en `monitor_resolutie` attributen aanpassen. Laat beide methoden een `print()` maken met informatie voor de gebruiker.\n",
    "- Voeg de `korting_toepassen()` methode toe en geef de `percentage` parameter mee. Deze zal een korting uitvoeren op de `prijs` van het `Product`. Maak daarbij opnieuw gebruik van `super()` zodat `verander_prijs()` van het `Product` wordt uitgevoegd.\n",
    "- Test de klasse door een [object](https://docs.python.org/3/tutorial/classes.html#instance-objects) te maken voor een computer van 1200 euro, met 8 cpu, 2TB opslag, en 16 GB geheugen. Dit doe je door de `cpu`, `opslag`, en `geheugen` parameters mee te geven aan `Computer`. Schrijf het object naar een variabele genaamd `computer`.\n",
    "- Voeg vervolgens een 4K monitor toe te voegen, verwijderen de monitor, en pas een korting van 30% toe.\n",
    "- Print uiteindelijk het object zodat het product type en prijs wordt geprint, dus `print(computer)`"
   ]
  },
  {
   "cell_type": "code",
   "execution_count": 9,
   "id": "4a83344c-2fd1-4264-9d5c-a667cfb6a8a3",
   "metadata": {},
   "outputs": [
    {
     "name": "stdout",
     "output_type": "stream",
     "text": [
      "Het product is een computer en het kost 840.00 euro.\n"
     ]
    }
   ],
   "source": [
    "class Computer(Product):\n",
    "    def __init__(self, prijs: float, **computer_kwarg) -> None:\n",
    "        super().__init__(\"computer\",prijs)\n",
    "        self.inclusief_monitor = False\n",
    "        monitor_resolutie = None \n",
    "\n",
    "        try: \n",
    "            self.cpu = computer_kwarg.get(\"cpu\")\n",
    "        except:\n",
    "            throw: ValueError(\"Geen CPU gevonden\")\n",
    "\n",
    "        try:\n",
    "            self.opslag = computer_kwarg.get(\"opslag\")\n",
    "        except:\n",
    "            throw: ValueError(\"Geen opslag gevonden\")\n",
    "        \n",
    "        try: \n",
    "            self.geheugen = computer_kwarg.get(\"geheugen\")\n",
    "        except:\n",
    "            throw: ValueError(\"Geen geheugen gevonden\")\n",
    "\n",
    "    def korting_toepassen(self, percentage):\n",
    "        nieuwe_prijs = self.prijs * (1 - percentage / 100)\n",
    "        super().verander_prijs(nieuwe_prijs)\n",
    "\n",
    "computer = Computer(1200, cpu=\"8\", opslag=\"2TB\", geheugen=\"16GB\")\n",
    "computer.inclusief_monitor = True\n",
    "computer.monitor_resolutie = \"4K\"\n",
    "computer.inclusief_monitor = False\n",
    "computer.monitor_resolutie = None\n",
    "computer.korting_toepassen(30)\n",
    "print(repr(computer))\n"
   ]
  },
  {
   "cell_type": "markdown",
   "id": "6db79236",
   "metadata": {
    "id": "6db79236"
   },
   "source": [
    "## Opdracht 2: GPS data van een vliegtuig analyseren *(45 punten)* <a class='anchor' id='gps_data'></a>"
   ]
  },
  {
   "cell_type": "markdown",
   "id": "b153358c",
   "metadata": {
    "id": "b153358c"
   },
   "source": [
    "**Belangrijk:** *Bij deze opdracht kun je 4 punten verdienen voor de structuur en stijl van je code. Ook kun je 6 punten verdienen voor het toevoegen van duidelijk commentaar bij de code en eventuele tekst cellen met een toelichting. Het gebruik van een iteratie (bijv. met `for` of `while`) is **niet** toegestaan in opdracht 2, tenzij het expliciet vermeld staat. In andere gevallen zal het dus voor vermindering van punten zorgen.*"
   ]
  },
  {
   "cell_type": "markdown",
   "id": "daf405a5",
   "metadata": {
    "id": "daf405a5"
   },
   "source": [
    "In deze opdracht ga je de [GPS](https://nl.wikipedia.org/wiki/Global_positioning_system) data van een vliegtuig analyseren. De data is opgeslagen in een bestand met het CSV formaat, oftewel als [comma-separated values](https://nl.wikipedia.org/wiki/Kommagescheiden_bestand). Open het *flight_data.csv* bestand in een simpele tekst bewerker (bijv. *Windows Notepad*) om het formaat van de data te begrijpen."
   ]
  },
  {
   "cell_type": "markdown",
   "id": "7250f05c",
   "metadata": {
    "id": "7250f05c"
   },
   "source": [
    "De `genfromtxt()` functie van NumPy is handig om data uit een [tekstbestand](https://nl.wikipedia.org/wiki/Platte_tekst) in te lezen. In het databestand heb je kunnen zien dat niet elke kolom een getal bevat, oftewel het `float` datatype. De eerste kolom bevat namelijk een datum en tijd. Gelukkig kan de `genfromtxt()` functie verschillende datatypes inlezen. Lees de [documentatie](https://numpy.org/doc/stable/reference/generated/numpy.genfromtxt.html) door en bekijk goed de uitleg bij de verschillende parameters. Ook kun je in het bestand zien dat sommige waardes ontbreken, bijvoorbeeld door een probleem met de meetapparatuur."
   ]
  },
  {
   "cell_type": "markdown",
   "id": "1c33d886",
   "metadata": {
    "id": "1c33d886"
   },
   "source": [
    "**[a]** Lees nu de tijd, breedtegraad, lengtegraad, hoogte, en snelheid uit het *flight_data.csv* bestand in. De hoogte is gegeven in *feet* en de snelheid in *knots* *(3 punten)*\n",
    "\n",
    "- Zet het argument van `unpack` op `True`\n",
    "- Stel ook andere relevante parameters van `genfromtxt()` in\n",
    "- Zorg dat de output van `genfromtxt()` naar aparte variabelen\n",
    "- Controleer na het inlezen dat een [NaN](https://nl.wikipedia.org/wiki/NaN) is toegekend aan de ontbrekende waardes. Het aantal NaNs in een array kun je printen door gebruik te maken van `np.sum()` en `np.isnan()`.\n",
    "\n",
    "*Tip: Voor de datum/tijd data kun je bijvoorbeeld het `datetime64` datatype van NumPy gebruiken, maar je mag uiteraard ook een andere manier bedenken om die kolom met data om te zetten naar een handig datatype.*"
   ]
  },
  {
   "cell_type": "code",
   "execution_count": 10,
   "id": "d91df4a3",
   "metadata": {
    "id": "d91df4a3"
   },
   "outputs": [
    {
     "name": "stdout",
     "output_type": "stream",
     "text": [
      "['2024-11-01T10:30:35' '2024-11-01T10:31:01' '2024-11-01T10:31:17'\n",
      " '2024-11-01T10:31:37' '2024-11-01T10:31:55' '2024-11-01T10:32:12'\n",
      " '2024-11-01T10:37:18' '2024-11-01T10:37:30' '2024-11-01T10:37:39'\n",
      " '2024-11-01T10:37:49' '2024-11-01T10:37:58' '2024-11-01T10:38:06'\n",
      " '2024-11-01T10:38:14' '2024-11-01T10:38:20' '2024-11-01T10:38:25'\n",
      " '2024-11-01T10:38:30' '2024-11-01T10:38:35' '2024-11-01T10:38:39'\n",
      " '2024-11-01T10:38:44' '2024-11-01T10:38:49']\n"
     ]
    }
   ],
   "source": [
    "utc,latitude,longitude,altitude,speed = np.genfromtxt('flight_data.csv', dtype=(object,float,float,float,float),delimiter=',', skip_header=1, usecols=(1,3,4,5,6), unpack=True)\n",
    "\n",
    "utc = utc.astype(str) # UTC is generated as objects but converted to strings to avoid errors in generation. Why this is necessary is unknown (to me atleast), as the data format is clean enough to prevent this.\n",
    "utc_trimmed = np.char.rstrip(utc,'Z') # Assumes that the timezone is always Z, which is the case in this dataset.\n",
    "time = np.array([np.datetime64(date) for date in utc_trimmed]) # A for-loop is used, as np.datetime64 does not support arrays of strings as input.\n",
    "\n",
    "print(time[0:20]) # [0:20] was an arbitrarily chosen to limit to improve readability."
   ]
  },
  {
   "cell_type": "markdown",
   "id": "f3ebd099",
   "metadata": {
    "id": "f3ebd099"
   },
   "source": [
    "Het bestand bevat het tijdstip (datum en tijd), de breedtegraad (in graden), de lengtegraad (in graden), en de hoogte (in meter). Voor de analyse is de [cumulatieve](https://www.encyclo.nl/begrip/cumulatief) tijd, de [cumulatieve](https://www.encyclo.nl/begrip/cumulatief) afstand, en de snelheid nodig. Deze kun je berekenen door met een iteratie alle regels in de ingelezen data te doorlopen.\n",
    "\n",
    "Bekijk eerst hoe de [geografische coordinaten](https://nl.wikipedia.org/wiki/Geografische_co%C3%B6rdinaten) gedefinieerd zijn. Bedenk daarbij dat een hoekverschil kan worden omgerekend naar een afstand door gebruik te maken van de straal van de Aarde. De volledige omtrek is immers $2\\pi\\,R_\\oplus$, waarbij $R_\\oplus$ de straal van de Aarde is. Een verschil in de breedtegraad, $\\Delta\\theta$, in radialen komt daarom overeen met een afstand:\n",
    "\n",
    "$$\\Delta x_\\theta = \\Delta\\theta\\,R_\\oplus$$\n",
    "\n",
    "Vergelijkbaar kunnen we een hoekverschil van de lengtegraad omrekenen naar een afstand. Bedenk daarbij dat de afstand tussen twee lengtegraden groter is rond de evenaar dan richting de polen. Mocht dat niet gelijk duidelijk zijn, bekijk dan nog eens [deze afbeelding](https://nl.wikipedia.org/wiki/Geografische_co%C3%B6rdinaten#/media/Bestand:Latitude_and_Longitude_of_the_Earth_nl.svg). Er is daarom een extra factor $\\cos{\\theta}$ nodig om een verschil in lengtegraad, $\\Delta\\phi$, om te rekenen naar een de afstand:\n",
    "\n",
    "$$\\Delta x_\\phi = \\Delta\\phi\\,R_\\oplus\\,\\cos{\\theta}$$\n",
    "\n",
    "Hoewel de [aarde een beetje afgeplat is](https://nl.wikipedia.org/wiki/Afplatting_van_de_Aarde), mag je ook aannemen dat de straal van de Aarde constant is bij het omrekenen van een hoekverschil naar een afstand, en dus niet van de breedtegraad afhangt. Ook mag je de vereenvoudiging maken dat lokaal de aarde vlak is bij het berekenen van de totale afstand per tijdsstap."
   ]
  },
  {
   "cell_type": "markdown",
   "id": "84c50a41-8322-4ef0-9644-ad3b3b4ed196",
   "metadata": {},
   "source": [
    "**[b]** We gaan nu eerst de ontbrekende waardes in de dataset corrigeren met een [interpolatie](https://nl.wikipedia.org/wiki/Interpolatie). (*5 punten*)\n",
    "\n",
    "- Gebruik de `interp1d()` functie (zie [documentatie](https://docs.scipy.org/doc/scipy/reference/generated/scipy.interpolate.interp1d.html)) uit de `interpolate` subpackage van `scipy` en corrigeer,  met een lineaire interpolatie,  de elementen in de breedtegraad data die een NaN bevatten. *Tip: verander de array met de tijd naar een `float` datatype en interpoleer de breedtegraad als functie van de tijd.*\n",
    "- Vervolgens corrigeer je ook de lengtegraad data met een aparte interpolatie.\n",
    "- Controleer of de data inderdaad geen NaN waardes meer bevat door opnieuw gebruik te maken van `np.sum()` en `np.isnan()`."
   ]
  },
  {
   "cell_type": "code",
   "execution_count": 11,
   "id": "ad167608-a8dd-4345-81f3-b93e184abd98",
   "metadata": {},
   "outputs": [
    {
     "name": "stdout",
     "output_type": "stream",
     "text": [
      "There are no NaN values in the expanded datasets.\n"
     ]
    }
   ],
   "source": [
    "import scipy as sp \n",
    "from scipy.interpolate import interp1d \n",
    "\n",
    "# Convert time to floats for interpolation.\n",
    "time_floats = time.astype(float) \n",
    "\n",
    "# Create interpolation functions for latitude and longitude.\n",
    "latitude_function = interp1d(time_floats[~np.isnan(latitude)],latitude[~np.isnan(latitude)], fill_value='extrapolate') # ~np.isnan(longitude) is used to remove NaN values from the dataset.\n",
    "longitude_function = interp1d(time_floats[~np.isnan(longitude)],longitude[~np.isnan(longitude)], fill_value='extrapolate')\n",
    "\n",
    "# Calling interpolation functions\n",
    "latitude_expanded = latitude_function(time_floats)\n",
    "longitude_expanded = longitude_function(time_floats)\n",
    "\n",
    "# Check for NaN values in the expanded datasets.\n",
    "NaN_values_latitude = np.sum(np.isnan(latitude_expanded))\n",
    "NaN_values_longitude = np.sum(np.isnan(longitude_expanded))\n",
    "\n",
    "if NaN_values_latitude == 0 and NaN_values_longitude == 0:\n",
    "    print(\"There are no NaN values in the expanded datasets.\")\n",
    "elif NaN_values_latitude != 0:\n",
    "    raise ValueError(\"There are NaN values in the expanded latitude dataset.\")\n",
    "elif NaN_values_longitude != 0:\n",
    "    raise ValueError(\"There are NaN values in the expanded longitude dataset.\")"
   ]
  },
  {
   "cell_type": "markdown",
   "id": "3d1faffc",
   "metadata": {
    "id": "3d1faffc"
   },
   "source": [
    "**[c]** Maak drie nieuwe arrays en gebruik deze om de cumulatieve tijd en de cumulatieve afstand. *(9 punten)*\n",
    "\n",
    "- Zorg dat de cumulatieve tijd en afstand bij nul beginnen\n",
    "- Je mag gebruik maken van een `for` loop (zie [uitleg](https://realpython.com/python-for-loop/)) in combinatie met `range()` of `enumerate()` (zie [uitleg](https://realpython.com/python-enumerate/))\n",
    "- Gebruik de `constants` module van Astropy voor de straal van de Aarde (zie [documentatie](https://docs.astropy.org/en/stable/constants/index.html))\n",
    "- Hoogteverschillen mogen verwaarloosd worden voor de cumulatieve afstand\n",
    "\n",
    "*Tip: Bedenk goed of je in graden of radialen moet werken. De input voor een functie zoals `np.cos()` (zie [documentatie](https://numpy.org/doc/stable/reference/generated/numpy.cos.html)) moet bijvoorbeeld in radialen worden gegeven . De `np.radians()` (zie [documentatie](https://numpy.org/doc/stable/reference/generated/numpy.radians.html)) en `np.degrees()` (zie [documentatie](https://numpy.org/doc/stable/reference/generated/numpy.degrees.html)) functies van NumPy zijn handig om te converteren tussen graden en radialen.*"
   ]
  },
  {
   "cell_type": "code",
   "execution_count": 12,
   "id": "3a1bf10f",
   "metadata": {
    "id": "3a1bf10f"
   },
   "outputs": [
    {
     "name": "stdout",
     "output_type": "stream",
     "text": [
      "[  0.  26.  42.  62.  80.  97. 403. 415. 424. 434. 443. 451. 459. 465.\n",
      " 470. 475. 480. 484. 489. 494.]\n",
      "[0.         0.02019395 0.04139785 0.06860736 0.09137649 0.11391099\n",
      " 0.14122326 0.16733036 0.19300286 0.22074862 0.25038961 0.27134992\n",
      " 0.30048418 0.32817176 0.35370324 0.37937576 0.40753763 0.43364476\n",
      " 0.46494335 0.49607013]\n",
      "Total distance traveled: [0.         0.02019395 0.04139785 0.06860736 0.09137649 0.11391099\n",
      " 0.14122326 0.16733036 0.19300286 0.22074862 0.25038961 0.27134992\n",
      " 0.30048418 0.32817176 0.35370324 0.37937576 0.40753763 0.43364476\n",
      " 0.46494335 0.49607013] km\n",
      "Total time elapsed: [  0.  26.  42.  62.  80.  97. 403. 415. 424. 434. 443. 451. 459. 465.\n",
      " 470. 475. 480. 484. 489. 494.] seconds\n"
     ]
    }
   ],
   "source": [
    "from astropy.constants import R_earth\n",
    "\n",
    "# Determining cumalative time\n",
    "cumulative_time_arr = time_floats-time_floats[0] \n",
    "print(cumulative_time_arr[0:20]) # [0:20] was an arbitrarily chosen to limit to improve readability.\n",
    "\n",
    "# Determining cumulative distance \n",
    "cumulative_distance_arr = np.zeros(len(cumulative_time_arr)) \n",
    "\n",
    "\n",
    "# Converting latitude and longtitude to radians\n",
    "longitude_radians = np.radians(longitude_expanded)\n",
    "latitude_radians = np.radians(latitude_expanded)\n",
    "\n",
    "a_vals = []\n",
    "\n",
    "for i in range(1,len(cumulative_time_arr)):\n",
    "    # Calculating dt, dx, and dy\n",
    "    delta_time = cumulative_time_arr[i] - cumulative_time_arr[i-1]\n",
    "    delta_longitude = longitude_radians[i] - longitude_radians[i-1]\n",
    "    delta_latitude = latitude_radians[i] - latitude_radians[i-1]\n",
    "\n",
    "    # Calculating distance according to the Haversine formula\n",
    "    a = np.sin(delta_latitude * 0.5)**2 + np.cos(latitude_radians[i - 1]) * np.cos(latitude_radians[i]) * np.sin(delta_longitude * 0.5)**2 \n",
    "    a_vals.append(a)\n",
    "    c = 2 * np.arctan2(np.sqrt(a), np.sqrt(1 - a))\n",
    "    distance = (R_earth.value/1000) * c # /1000 to get in km\n",
    "    cumulative_distance_arr[i] = distance + cumulative_distance_arr[i-1]\n",
    "\n",
    "print(cumulative_distance_arr[0:20]) # [0:20] was an arbitrarily chosen to limit to improve readability.\n",
    "\n",
    "# Printing the data\n",
    "print(f\"Total distance traveled: {cumulative_distance_arr[0:20]} km\")\n",
    "print(f\"Total time elapsed: {cumulative_time_arr[0:20]} seconds\")\n",
    "# [0:20] was an arbitrarily chosen to limit to improve readability."
   ]
  },
  {
   "cell_type": "markdown",
   "id": "df74e712",
   "metadata": {
    "id": "df74e712"
   },
   "source": [
    "**[d]** Gebruik de arrays uit de vorige vraag om de volgende eigenschappen van de dataset te printen: *(2 punten)*\n",
    "\n",
    "- De totale tijdsduur van de vlucht in (uur, min, sec)\n",
    "- De totale afstand in km\n",
    "- De gemiddelde snelheid in km/uur"
   ]
  },
  {
   "cell_type": "code",
   "execution_count": null,
   "id": "2aff1c43",
   "metadata": {
    "colab": {
     "base_uri": "https://localhost:8080/"
    },
    "id": "2aff1c43",
    "outputId": "ec937350-645e-4701-cb7c-9455ccbb1959"
   },
   "outputs": [
    {
     "name": "stdout",
     "output_type": "stream",
     "text": [
      "The total time elapsed is: 9h, 47m, 52.00s\n",
      "The total distance traveled is: 7947.42 km\n",
      "The average speed is: 811.15 km/h\n"
     ]
    }
   ],
   "source": [
    "import math\n",
    "\n",
    "# Calculating the total time and distance\n",
    "total_time = cumulative_time_arr[-1]\n",
    "total_distance = cumulative_distance_arr[-1]\n",
    "\n",
    "# Calculating the average speed (in km/h)\n",
    "average_speed = total_distance/(total_time/3600)\n",
    "\n",
    "# Dividing the total time into hours, minutes, and seconds\n",
    "time_hours = math.floor(total_time/3600)\n",
    "total_time = total_time - time_hours*3600\n",
    "time_minutes = math.floor(total_time/60)\n",
    "total_time = total_time - time_minutes*60\n",
    "time_seconds = total_time\n",
    "\n",
    "print(f\"The total time elapsed is: {time_hours}h, {time_minutes}m, {time_seconds:.2f}s\")\n",
    "print(f\"The total distance traveled is: {total_distance:.2f} km\")\n",
    "print(f\"The average speed is: {average_speed:.2f} km/h\")\n"
   ]
  },
  {
   "cell_type": "markdown",
   "id": "574883ce",
   "metadata": {
    "id": "574883ce"
   },
   "source": [
    "Een visualisatie, oftewel een plot, zorgt voor meer inzicht in een dataset. Om de route te visualiseren, kunnen we een lijn plotten door gebruik te maken van de lengtegraad en breedtegraad data. Daarbij is het logisch om een oriëntatie te kiezen waarbij de bovenkant van de figuur het noorden is en de rechterkant het oosten.\n",
    "\n",
    "*Tip: Lees eerst nog een keer de algemene instructies aan het begin van deze notebook over de vereisten bij het maken van een plot.*"
   ]
  },
  {
   "cell_type": "markdown",
   "id": "a35a061e",
   "metadata": {
    "id": "a35a061e"
   },
   "source": [
    "**[e]** Maak een plot van de vlucht door de breedtegraad en lengtegraad data te gebruiken. Voeg verder ook de volgende elementen toe: *(6 punten)*\n",
    "\n",
    "- Rode stippen bij het start- en eindpunt van de vlucht\n",
    "- Een groene ster op de plek met de maximum snelheid\n",
    "- De maximum snelheid als tekst naast de groene ster\n",
    "- Gebruik de `geopandas` en `geodatasets` bibliotheken om de contouren van een kaart op de achtergrond te plotten (zie [voorbeeld](https://geopandas.org/en/stable/gallery/create_geopandas_from_pandas.html)).\n",
    "- Stel de limieten van de x-as en y-as in zodat de vlucht goed te zien is. Het is dus niet de bedoeling om de contouren van de hele wereld te laten zien."
   ]
  },
  {
   "cell_type": "code",
   "execution_count": 14,
   "id": "23ea2edf",
   "metadata": {
    "colab": {
     "base_uri": "https://localhost:8080/",
     "height": 453
    },
    "id": "23ea2edf",
    "outputId": "cd96428b-7dc6-4e25-af55-397b080b01a3"
   },
   "outputs": [
    {
     "data": {
      "image/png": "[encoded data removed]",
      "text/plain": [
       "<Figure size 1500x1500 with 1 Axes>"
      ]
     },
     "metadata": {},
     "output_type": "display_data"
    }
   ],
   "source": [
    "import geopandas as gpd\n",
    "import geodatasets\n",
    "import pandas as pd\n",
    "import matplotlib.pyplot as plt\n",
    "\n",
    "# Turning the flightdata into a GeoDataFrame\n",
    "flightdata = {\n",
    "    'latitude': latitude_expanded,\n",
    "    'longitude': longitude_expanded,\n",
    "    'speed': speed\n",
    "}\n",
    "df = pd.DataFrame(flightdata)\n",
    "gdf = gpd.GeoDataFrame(df, geometry=gpd.points_from_xy(df.longitude, df.latitude))\n",
    "\n",
    "# Loading and plotting the worldmap\n",
    "world = gpd.read_file(geodatasets.get_path('naturalearth.land'))\n",
    "fig, ax = plt.subplots(figsize=(15,15))\n",
    "world.plot(ax=ax, color='lightgrey')\n",
    "\n",
    "# Plotting the flightpath\n",
    "gdf.plot(ax=ax, color='blue', markersize=1)\n",
    "\n",
    "# Marking the start and end points\n",
    "plt.scatter(df.longitude.iloc[0], df.latitude.iloc[0], color='red', s=100, edgecolor='black', label='Start')\n",
    "plt.scatter(df.longitude.iloc[-1], df.latitude.iloc[-1], color='red', s=100, edgecolor='black', label='End')\n",
    "\n",
    "# Marking the point with the highest velocity\n",
    "max_speed_idx = df['speed'].idxmax()\n",
    "plt.scatter(df.longitude.iloc[max_speed_idx], df.latitude.iloc[max_speed_idx], color='orange', s=250, edgecolor='black', marker='*', label='Max speed')\n",
    "plt.text(df.longitude[max_speed_idx]+5,df.latitude[max_speed_idx],f'{df.speed[max_speed_idx] * 1.85200:.0f} km/h', fontsize=12, color='black') # The speed is converted from knots to km/h, thusly the * 1.85200\n",
    "\n",
    "# Changing the size of the plot\n",
    "margin_x = 5\n",
    "margin_y = 8\n",
    "plt.xlim(df.longitude.min()-margin_x, df.longitude.max()+margin_x)\n",
    "plt.ylim(df.latitude.min()-margin_y, df.latitude.max()+margin_y)\n",
    "\n",
    "\n",
    "# Adding a legend and labels\n",
    "plt.legend()\n",
    "plt.xlabel('Longitude (degrees)')\n",
    "plt.ylabel('Latitude (degrees)')\n",
    "plt.title('Flightpath')\n",
    "\n",
    "plt.show()\n"
   ]
  },
  {
   "cell_type": "markdown",
   "id": "95eaf3fe",
   "metadata": {
    "id": "95eaf3fe"
   },
   "source": [
    "Nu dat de route is gevisualiseerd, ga je de eigenschappen van de vlucht plotten als functie van het tijdstip."
   ]
  },
  {
   "cell_type": "markdown",
   "id": "0e8f4812",
   "metadata": {
    "id": "0e8f4812"
   },
   "source": [
    "**[f]** Maak een enkele plot met op de linker $y$-as de cumulatieve afstand in km en de rechter $y$-as de snelheid in km/uur (zie `twinx()` [voorbeelden](https://www.geeksforgeeks.org/matplotlib-axes-axes-twinx-in-python/)). De $x$-as moet de cumulatieve tijd in minuten weergeven. Zorg dat het duidelijk is welke lijn bij welke as hoort, bijvoorbeeld met verschillende kleuren en/of een legenda. (*4 punten*)"
   ]
  },
  {
   "cell_type": "code",
   "execution_count": 22,
   "id": "16d3127d",
   "metadata": {
    "colab": {
     "base_uri": "https://localhost:8080/",
     "height": 619
    },
    "id": "16d3127d",
    "outputId": "844bde05-c4aa-41b8-d52b-be654ec8f9b9"
   },
   "outputs": [
    {
     "data": {
      "image/png": "[encoded data removed]",
      "text/plain": [
       "<Figure size 640x480 with 2 Axes>"
      ]
     },
     "metadata": {},
     "output_type": "display_data"
    }
   ],
   "source": [
    "speed_kmh = speed * 1.85200\n",
    "distance = cumulative_distance_arr \n",
    "x_as = cumulative_time_arr/60\n",
    "\n",
    "# Making the plot\n",
    "fig, ax1 = plt.subplots()\n",
    "ax1.set_xlabel(\"Cumulative time (min)\")\n",
    "\n",
    "\n",
    "# Plotting the speed\n",
    "ax1.plot(x_as, speed_kmh, label='Speed (km/h)', color='blue')\n",
    "ax1.set_ylabel(\"Speed (km/h)\")\n",
    "ax1.tick_params(axis='y',labelcolor='blue')\n",
    "\n",
    "# Plotting the distance\n",
    "ax2 = ax1.twinx()\n",
    "ax2.plot(x_as,distance, label='Distance (km)', color='red')\n",
    "ax2.set_ylabel(\"Distance (km)\")\n",
    "ax2.tick_params(axis='y',labelcolor='red')\n",
    "\n",
    "# Adding labels, a legend and, a title\n",
    "fig.legend()\n",
    "plt.title(\"Speed and distance over time\")\n",
    "fig.tight_layout()\n",
    "plt.show()"
   ]
  },
  {
   "cell_type": "markdown",
   "id": "5c61ec35",
   "metadata": {
    "id": "5c61ec35"
   },
   "source": [
    "**[g]** Bereken gedurende hoeveel minuten er sneller dan 800 km/uur werd gevlogen. *(3 punten)*"
   ]
  },
  {
   "cell_type": "code",
   "execution_count": null,
   "id": "f292b75f",
   "metadata": {
    "colab": {
     "base_uri": "https://localhost:8080/"
    },
    "id": "f292b75f",
    "outputId": "94254a5d-ab4b-48ec-e282-56e7c79c7e1f"
   },
   "outputs": [
    {
     "name": "stdout",
     "output_type": "stream",
     "text": [
      "For 476.62 minutes the velocity was above 800 km/h.\n"
     ]
    }
   ],
   "source": [
    "# get indices of speed_kmh where it is above 800\n",
    "indices = np.where(speed_kmh > 800)[0]\n",
    "totalTimeFast = 0 # totalTimeFast is chosen as a variable name to avoid confusion with total_time\n",
    "for x in indices:\n",
    "    intervalT = cumulative_time_arr[x+1]-cumulative_time_arr[x]\n",
    "    totalTimeFast += intervalT\n",
    "\n",
    "totalTimeFast_minutes = totalTimeFast/60\n",
    "\n",
    "print(f\"For {totalTimeFast_minutes:.2f} minutes the velocity was above 800 km/h.\")"
   ]
  },
  {
   "cell_type": "markdown",
   "id": "Rev2BZvMo6Jh",
   "metadata": {
    "id": "Rev2BZvMo6Jh"
   },
   "source": [
    "**[h]** Bepaal het tijdstip (in uur, min, sec) waarop het hoogste punt van de vlucht werd bereikt. Bepaal ook hoe ver (in procenten) de vlucht op dat moment gevorderd was. *(3 punten)*"
   ]
  },
  {
   "cell_type": "code",
   "execution_count": 63,
   "id": "xB7yFGAzpclz",
   "metadata": {
    "colab": {
     "base_uri": "https://localhost:8080/"
    },
    "id": "xB7yFGAzpclz",
    "outputId": "e121ce3b-645a-43dd-cd21-f32db6e65458"
   },
   "outputs": [
    {
     "name": "stdout",
     "output_type": "stream",
     "text": [
      "The highest point was 39025.00 feat, this was at 9h, 11m, 42s which was 93.85% of the journey (time); at this point they were 95.69% there (distsance).\n"
     ]
    }
   ],
   "source": [
    "# find where the arr height has the highest value\n",
    "maxHeight = np.max(altitude)\n",
    "maxHeight_index = np.argmax(altitude)\n",
    "\n",
    "# Determines at what percentage of the flight this was.\n",
    "percentageTime = (cumulative_time_arr[maxHeight_index]/cumulative_time_arr[-1])*100\n",
    "percentageDistance = (cumulative_distance_arr[maxHeight_index]/cumulative_distance_arr[-1])*100\n",
    "\n",
    "# Determining at what time of day this was.\n",
    "maxHeight_time = time[maxHeight_index] - time[0]\n",
    "maxHeight_hours = maxHeight_time.astype('timedelta64[h]').astype(int)\n",
    "maxHeight_minutes = (maxHeight_time - np.timedelta64(maxHeight_hours, 'h')).astype('timedelta64[m]').astype(int)\n",
    "maxHeight_seconds = (maxHeight_time - np.timedelta64(maxHeight_hours, 'h') - np.timedelta64(maxHeight_minutes, 'm')).astype('timedelta64[s]').astype(int)\n",
    "time_text = f\"{maxHeight_hours}h, {maxHeight_minutes}m, {maxHeight_seconds}s\"\n",
    "\n",
    "print(f\"The highest point was {maxHeight:.2f} feat, this was at {time_text} which was {percentageTime:.2f}% of the journey (time); at this point they were {percentageDistance:.2f}% there (distsance).\")"
   ]
  },
  {
   "cell_type": "markdown",
   "id": "03f89ff7",
   "metadata": {
    "id": "03f89ff7"
   },
   "source": [
    "## Opdracht 3: Ster spectrum fitten met de wet van Planck *(45 punten)* <a class='anchor' id='ster_spectrum'></a>"
   ]
  },
  {
   "cell_type": "markdown",
   "id": "441472dc",
   "metadata": {
    "id": "441472dc"
   },
   "source": [
    "**Belangrijk:** *Bij deze opdracht kun je 4 punten verdienen voor de structuur en stijl van je code. Ook kun je 6 punten verdienen voor het toevoegen van duidelijk commentaar bij de code en eventuele tekst cellen met een toelichting. Het gebruik van een iteratie is bij **geen** van de subvragen van opdracht 3 toegestaan. Maximale punten worden daarom alleen toegekend zonder gebruik te maken van `for`/`while`.*"
   ]
  },
  {
   "cell_type": "markdown",
   "id": "etbi6XREcPqc",
   "metadata": {
    "id": "etbi6XREcPqc"
   },
   "source": [
    "De [stralingswet van Planck](https://nl.wikipedia.org/wiki/Wet_van_Planck) geeft de intensiteitsverdeling van het licht dat wordt uitgestraald door een ideale stralingsbron met temperatuur $T$, ook wel [zwarte straler](https://nl.wikipedia.org/wiki/Zwarte_straler) genoemd. De spectrale intensiteitsverdeling van een zwarte straler kan worden gebruikt als benadering voor het [spectrum](https://nl.wikipedia.org/wiki/Spectrum) van een ster.\n",
    "\n",
    "Zoals we bij de tweede module al hadden gezien, maar nu als functie van golflengte, de formule voor de wet van Planck is:\n",
    "\n",
    "$$B_\\lambda(\\lambda, T) = \\pi\\,\\frac{2hc^2}{\\lambda^5}\\frac{1}{e^\\frac{hc}{\\lambda kT}-1}$$\n",
    "\n",
    "Hierbij is $T$ de temperatuur van de zwarte straler en $\\lambda$ golflengte van het licht. Ter herinnering, deze formule geeft de energie die wordt uitgestraald per eenheid van tijd, oppervlakte, en golflengte. De [SI eenheid](https://nl.wikipedia.org/wiki/SI-stelsel) van $B_\\lambda(\\lambda, T)$ is W m$^{-2}$ m$^{-1}$ . De formule bevat ook de [lichtsnelheid](https://nl.wikipedia.org/wiki/Lichtsnelheid), $c$, de [constante van Planck](https://nl.wikipedia.org/wiki/Constante_van_Planck), $h$, en de [Boltzmannconstante](https://nl.wikipedia.org/wiki/Boltzmannconstante), $k$.\n",
    "\n",
    "De [classificatie van sterren](https://nl.wikipedia.org/wiki/Spectrale_classificatie_van_sterren) is gebaseerd op de kenmerken in de [spectra](https://nl.wikipedia.org/wiki/Spectrum). Het meten van een ster spectrum wordt gedaan met een [telescoop](https://nl.wikipedia.org/wiki/Telescoop_(optica)) en daaraan een [spectrograaf](https://nl.wikipedia.org/wiki/Spectrograaf) gekoppeld. De [spectraalklasse](https://nl.wikipedia.org/wiki/Spectraalklasse) van een ster is gerelateerd aan de temperatuur van de ster. In deze opgave ga je het spectrum van een zogeheten [hoofdreeksster](https://nl.wikipedia.org/wiki/Hoofdreeks) van [type M](https://nl.wikipedia.org/wiki/Rode_dwerg) analyseren."
   ]
  },
  {
   "cell_type": "markdown",
   "id": "582e8f07",
   "metadata": {
    "id": "582e8f07"
   },
   "source": [
    "Het ster spectrum is opgeslagen in het *M2V_HD95735.dat* bestand. Open eerst het bestand in a tekstbewerker (bijv. *Windows Notepad*) om de inhoud van het bestand te bekijken. Let bijvoorbeeld op de structuur van de data en de datatypes die het bevat.\n",
    "\n",
    "De `loadtxt()` functie van NumPy (zie [documentatie](https://numpy.org/doc/stable/reference/generated/numpy.loadtxt.html)) is een eenvoudigere functie dan `genfromtxt()` om data uit een tekstbestand in te lezen. Deze functie is sneller maar heeft minder mogelijkheden als er bijvoorbeeld data mist in het bestand."
   ]
  },
  {
   "cell_type": "markdown",
   "id": "1bcc0a26",
   "metadata": {
    "id": "1bcc0a26"
   },
   "source": [
    "**[a]** Gebruik `loadtxt()` om de data uit het bestand *M2V_HD95735.dat* in te lezen. *(2 punten)*"
   ]
  },
  {
   "cell_type": "code",
   "execution_count": null,
   "id": "69bdf021",
   "metadata": {
    "id": "69bdf021"
   },
   "outputs": [
    {
     "name": "stdout",
     "output_type": "stream",
     "text": [
      "7981\n",
      "[0.806972 0.807175 0.807378 0.80758  0.807783 0.807985 0.808188 0.80839\n",
      " 0.808593 0.808796 0.808998 0.809201 0.809403 0.809606 0.809808 0.810011\n",
      " 0.810213 0.810234 0.810467 0.8107  ]\n"
     ]
    }
   ],
   "source": [
    "# Loading data\n",
    "data = np.loadtxt('M2V_HD95735.txt', skiprows=48)\n",
    "wavelengths = data[:,0]\n",
    "flux_density = data[:,1]\n",
    "flux_error = data[:,2]\n",
    "\n",
    "# The range [0:20] was arbitrarily chosen to limit the output for readability.\n",
    "print(wavelengths[0:20])\n",
    "print(flux_density[0:20])\n",
    "print(flux_error[0:20])"
   ]
  },
  {
   "cell_type": "markdown",
   "id": "7c2af33b",
   "metadata": {
    "id": "7c2af33b"
   },
   "source": [
    "Zoals je in het bestand misschien gezien hebt, heeft de flux bij sommige golflengtes een waarde van -999. Dit is gedaan om aan te geven dat er bij die golflengtes een probleem was met de meting. Met het analyseren is het handiger om die waardes op [NaN](https://nl.wikipedia.org/wiki/NaN) te zetten (zie [documentatie](https://numpy.org/doc/stable/reference/constants.html)). Op die manier zullen die waardes niet worden gebruikt bij het maken van een plot, terwijl dat met -999 wel het geval zou zijn."
   ]
  },
  {
   "cell_type": "markdown",
   "id": "hNp6hIJtcq00",
   "metadata": {
    "id": "hNp6hIJtcq00"
   },
   "source": [
    "**[b]** Identificeer de elementen in de array waarbij de flux een waarde heeft van -999. Gebruik de indices om zowel de flux als de onzekerheid de waarde NaN te geven. *(3 punten)*"
   ]
  },
  {
   "cell_type": "code",
   "execution_count": 23,
   "id": "bc825487",
   "metadata": {
    "colab": {
     "base_uri": "https://localhost:8080/"
    },
    "id": "bc825487",
    "outputId": "4d6ac520-32b6-4660-eb2a-dacad1394393"
   },
   "outputs": [],
   "source": [
    "noValueIndices = np.where(flux_density == -999)[0]\n",
    "flux_density[noValueIndices] = np.nan\n",
    "flux_error[noValueIndices] = np.nan"
   ]
  },
  {
   "cell_type": "markdown",
   "id": "B4Z-9NL1dRxJ",
   "metadata": {
    "id": "B4Z-9NL1dRxJ"
   },
   "source": [
    "**[c]** Bepaal het aantal elementen waarbij de flux een waarde van NaN heeft. *(2 punten)*"
   ]
  },
  {
   "cell_type": "code",
   "execution_count": 31,
   "id": "2c62f66c",
   "metadata": {
    "colab": {
     "base_uri": "https://localhost:8080/"
    },
    "id": "2c62f66c",
    "outputId": "8b4e98bf-c117-48a5-f1c8-a5a29370ded0"
   },
   "outputs": [
    {
     "name": "stdout",
     "output_type": "stream",
     "text": [
      "There are 1054 unknown values in the dataset\n"
     ]
    }
   ],
   "source": [
    "num_of_NaN = len(noValueIndices) # NaNs are only added with this arr, thusly the length of this array is equal to the amount of NaNs in the dataset. \n",
    "print(f\"There are {num_of_NaN} unknown values in the dataset\" )\n"
   ]
  },
  {
   "cell_type": "markdown",
   "id": "b17df3d6",
   "metadata": {
    "id": "b17df3d6"
   },
   "source": [
    "**[d]** Bepaal nu onderstaande eigenschappen van het spectrum: *(3 punten)*\n",
    "\n",
    "- Het golflengte bereik in $\\mu$m\n",
    "- Het gemiddelde en de standaard deviatie van de flux in W m$^{-2}$ $\\mu$m$^{-1}$\n",
    "- De minimale en maximale waarde van de [signaal-ruisverhouding](https://nl.wikipedia.org/wiki/Signaal-ruisverhouding)"
   ]
  },
  {
   "cell_type": "code",
   "execution_count": 32,
   "id": "645690b7",
   "metadata": {
    "colab": {
     "base_uri": "https://localhost:8080/"
    },
    "id": "645690b7",
    "outputId": "9601c62e-6c33-447b-e423-72ddbb015fac"
   },
   "outputs": [
    {
     "name": "stdout",
     "output_type": "stream",
     "text": [
      "The domain of the wavelength is (np.float64(0.806972), np.float64(5.401185))\n",
      "The average value of the flux density is 0.00\n",
      "The flux density has a standard deviation of 0.00\n",
      "The signal-to-noise ratio varies between 0.73 and 1458.80\n"
     ]
    }
   ],
   "source": [
    "# Determining the domain of the wavelength in the dataset\n",
    "wavelength_domain = (np.min(wavelengths), np.max(wavelengths))\n",
    "\n",
    "# Determining the average value and standard deviation of the flux density\n",
    "average_flux_density = np.nanmean(flux_density)\n",
    "standard_deviation_flux_density = np.nanstd(flux_density)\n",
    "\n",
    "# Determining the minimum and maximum values of the signal-to-noise ratio\n",
    "STN_ratio = flux_density / flux_error\n",
    "STN_min = np.nanmin(STN_ratio)\n",
    "STN_max = np.nanmax(STN_ratio)\n",
    "\n",
    "print(f'''The domain of the wavelength is {wavelength_domain}\n",
    "The average value of the flux density is {average_flux_density:.2f}\n",
    "The flux density has a standard deviation of {standard_deviation_flux_density:.2f}\n",
    "The signal-to-noise ratio varies between {STN_min:.2f} and {STN_max:.2f}''' )\n"
   ]
  },
  {
   "cell_type": "markdown",
   "id": "inuDodXndi4g",
   "metadata": {
    "id": "inuDodXndi4g"
   },
   "source": [
    "**[e]** Maak een plot van het spectrum, dus de flux als functie van golflengte. *(5 punten)*\n",
    "\n",
    "- Zorg dat het figuur twee keer zo breed is dan hoog\n",
    "- Gebruik de rechter $y$-as om de signaal-ruisverhouding (S/N) te plotten (zie [documentatie](https://matplotlib.org/stable/api/_as_gen/matplotlib.axes.Axes.twinx.html))\n",
    "- Stel de linker $y$-as in op een logaritmische schaal\n",
    "- Zorg dat het duidelijk is welke lijn het spectrum is en welke de signaal-ruisverhouding"
   ]
  },
  {
   "cell_type": "code",
   "execution_count": 57,
   "id": "0ad672ac",
   "metadata": {
    "colab": {
     "base_uri": "https://localhost:8080/",
     "height": 393
    },
    "id": "0ad672ac",
    "outputId": "c931e498-fb49-47a8-985f-5a24e45a4971"
   },
   "outputs": [
    {
     "data": {
      "image/png": "[encoded data removed]",
      "text/plain": [
       "<Figure size 1200x600 with 2 Axes>"
      ]
     },
     "metadata": {},
     "output_type": "display_data"
    }
   ],
   "source": [
    "size = 6\n",
    "fig, ax1 = plt.subplots (figsize=(2*size,size))\n",
    "\n",
    "# Plotting the flux density with error bars (they're very smol)\n",
    "ax1.errorbar(wavelengths, flux_density, yerr=flux_error, fmt='o', label='Flux density', color='blue', ecolor='lightgray', elinewidth=2, capsize=3, markersize=1)\n",
    "ax1.set_xlabel('Wavelength (μm)')\n",
    "ax1.set_ylabel('Flux density (W m$^{-2}$ μm$^{-1}$)', color='blue')\n",
    "ax1.set_yscale('log')\n",
    "ax1.tick_params(axis='y', labelcolor='blue')\n",
    "\n",
    "# Plotting the signal-to-noise ratio\n",
    "ax2 = ax1.twinx()\n",
    "ax2.set_ylabel('Signal-to-noise ratio', color='red')\n",
    "ax2.plot(wavelengths, STN_ratio, label='Signal-to-noise ratio', color='red')\n",
    "ax2.tick_params(axis='y', labelcolor='red')\n",
    "\n",
    "# Adding labels, a legend and, a title\n",
    "fig.legend()\n",
    "plt.title('Flux density and signal-to-noise ratio')\n",
    "plt.show()\n"
   ]
  },
  {
   "cell_type": "markdown",
   "id": "I50O5Kcip_sp",
   "metadata": {
    "id": "I50O5Kcip_sp"
   },
   "source": [
    "We gaan nu het spectrum fitten met een model van een zwartlichaamstraler, gegeven door de [wet van Planck](https://nl.wikipedia.org/wiki/Wet_van_Planck). Om de data te fitten met het model kunnen we de [kleinste-kwadratenmethode](https://nl.wikipedia.org/wiki/Kleinste-kwadratenmethode) gebruiken, oftewel [least-squares](https://en.wikipedia.org/wiki/Least_squares). Met die methode wordt voor bepaalde waardes van de modelparameters het verschil tussen de meting en het model uitgerekend. Die verschillen worden gekwadrateerd, zodat alle verschillen een positieve waarde hebben. Vervolgens geeft de som van al die verschillen een indicatie over hoe goed het model de metingen fit. De parameters van het model moeten vervolgens worden aangepast om de fit te verbeteren en het verschil tussen model en metingen dus te minimaliseren."
   ]
  },
  {
   "cell_type": "markdown",
   "id": "N4p9K4A6rPeS",
   "metadata": {
    "id": "N4p9K4A6rPeS"
   },
   "source": [
    "Het minimaliseren van het verschil tussen model en meting is een [optimaliseringsprobleem](https://nl.wikipedia.org/wiki/Optimaliseringsprobleem). Gelukkig zijn daar algoritmes voor die kunnen helpen met het vinden van de beste parameter waardes, zodat we dat niet handmatig hoeven te doen. De `optimize` subpackage van SciPy bevat functionaliteiten om dergelijke problemen numeriek op te lossen (zie [documentatie](https://docs.scipy.org/doc/scipy/reference/optimize.html))."
   ]
  },
  {
   "cell_type": "markdown",
   "id": "d6c793ba",
   "metadata": {
    "id": "d6c793ba"
   },
   "source": [
    "**[f]** Definieer een functie voor de [wet van Planck](https://nl.wikipedia.org/wiki/Wet_van_Planck) en voeg ook een parameter als [schaalfactor](https://nl.wikipedia.org/wiki/Schaalfactor) toe. Deze parameter moet er voor zorgen dat het model spectrum naar het ster spectrum kan worden geschaald. Dit is noodzakelijk omdat de gemeten flux afhangt van de afstand naar de ster en de grootte van de ster. Gebruik de `curve_fit()` functie (zie [documentatie](https://docs.scipy.org/doc/scipy/reference/generated/scipy.optimize.curve_fit.html)) om de beste waardes voor de temperatuur en schaalfactor te bepalen, en print die waardes. *(10 punten)*\n",
    "\n",
    "- De fit met de `curve_fit()` moet op weg worden geholpen door een grove schatting van de parameters mee te geven\n",
    "- Zorg dat de golflengtes waarbij de flux op NaN was gezet niet worden meegenomen in de fit\n",
    "- Geef de onzekerheden van het spectrum mee met de `sigma` parameter. Op die manier zullen golflengtes waarbij de signaal-ruisverhouding lager is ook minder zwaar meewegen in de fit\n",
    "- Geef als argument van `full_output` de waarde `True` en lees nog eens extra de documentatie om te begrijpen wat de `return` is van `curve_fit`"
   ]
  },
  {
   "cell_type": "code",
   "execution_count": null,
   "id": "c881d22a",
   "metadata": {
    "colab": {
     "base_uri": "https://localhost:8080/"
    },
    "id": "c881d22a",
    "outputId": "21285fcc-6b37-4e4d-a21e-4f89e7cee889"
   },
   "outputs": [],
   "source": [
    "# Natural Constants\n",
    "h = 6.62607015e-34 # Planck's constant (m^2 kg / s)\n",
    "c = 299792458 # Speed of light in vacuum (m/s)\n",
    "k = 1.380649e-23 # Boltzmann constant (m^2 kg s^-2 K^-1)\n",
    "\n",
    "# Constant value in the formula is calculated outside the function to avoid unnecessary calculations\n",
    "formula_constant = (2*h) / (c**2)\n",
    "\n",
    "def plancks_law(wavelength, temperature, scale):\n",
    "    \"\"\"\n",
    "    Function to calculate the spectral radiance of a black body at a given wavelength and temperature.\n",
    "\n",
    "    Args:\n",
    "        wavelength (float): The wavelength at which to calculate the spectral radiance in microns.\n",
    "        temperature (float): The temperature of the black body in Kelvin.\n",
    "        scale (float): A scaling factor to adjust the output.\n",
    "\n",
    "    Returns:\n",
    "        float: The spectral radiance of the black body at the given wavelength and temperature.\n",
    "    \"\"\"\n",
    "\n",
    "    wavelength = wavelength * 1e-6 # Convert to meters from microns\n",
    "    numerator = formula_constant*wavelength**2\n",
    "    exp = np.exp((h*wavelength)/(k*temperature))\n",
    "    denominator = 1/(exp-1)\n",
    "    return scale*(numerator*denominator)\n"
   ]
  },
  {
   "cell_type": "markdown",
   "id": "tO2rUSxXzKNb",
   "metadata": {
    "id": "tO2rUSxXzKNb"
   },
   "source": [
    "**[g]** Hoeveel iteraties heeft het algoritme nodig gehad om de beste fit te vinden tussen de metingen en het model? *(1 punt)*"
   ]
  },
  {
   "cell_type": "code",
   "execution_count": null,
   "id": "8ZkZPi_1WX0C",
   "metadata": {
    "colab": {
     "base_uri": "https://localhost:8080/"
    },
    "id": "8ZkZPi_1WX0C",
    "outputId": "94ea21d9-3463-4e10-94f8-48ec3be2cce6"
   },
   "outputs": [],
   "source": [
    "# ..."
   ]
  },
  {
   "cell_type": "markdown",
   "id": "CwBVa8wa0bn6",
   "metadata": {
    "id": "CwBVa8wa0bn6"
   },
   "source": [
    "De `curve_fit()` functie geeft onder andere de [covariantie](https://nl.wikipedia.org/wiki/Covariantie) terug. Dat is een 2D array met in dit geval 2 rijen en 2 kolommen, omdat het model 2 parameters bevat. Wat voor nu belangrijk is om te weten is dat de [hoofddiagonaal](https://nl.wikipedia.org/wiki/Hoofddiagonaal) de [variantie](https://nl.wikipedia.org/wiki/Variantie) bevat, oftewel het kwadraat van de [standaarddeviatie](https://nl.wikipedia.org/wiki/Standaardafwijking). Je kunt daarom eerst de `np.diag()` functie (zie [documentatie](https://numpy.org/doc/stable/reference/generated/numpy.diag.html)) en daarna de `np.sqrt()` functie van NumPy (zie [documentatie](https://numpy.org/doc/stable/reference/generated/numpy.sqrt.html)) gebruiken om de onzekerheid op de model parameters, de temperatuur en schaalfactor, te bepalen."
   ]
  },
  {
   "cell_type": "markdown",
   "id": "82A68WEC2K3p",
   "metadata": {
    "id": "82A68WEC2K3p"
   },
   "source": [
    "**[h]** Wat is de onzekerheid / standdaarddeviatie op de gefitte waardes van de temperatuur en de schaalfactor? *(3 punten)*"
   ]
  },
  {
   "cell_type": "code",
   "execution_count": null,
   "id": "zzqXvCOU2mxu",
   "metadata": {
    "colab": {
     "base_uri": "https://localhost:8080/"
    },
    "id": "zzqXvCOU2mxu",
    "outputId": "bcf7481f-e35d-4d63-8941-81714b38a1c4"
   },
   "outputs": [],
   "source": [
    "# ..."
   ]
  },
  {
   "cell_type": "markdown",
   "id": "vfHzFYQtvZpw",
   "metadata": {
    "id": "vfHzFYQtvZpw"
   },
   "source": [
    "De parameters die gefit zijn kunnen we nu gebruiken om de meting met het model te vergelijken. Het is inzichtelijk om de meting samen met het model te plotten in één figuur."
   ]
  },
  {
   "cell_type": "markdown",
   "id": "xVFTBAssgIhG",
   "metadata": {
    "id": "xVFTBAssgIhG"
   },
   "source": [
    "**[i]** Plot het ster spectrum samen met het model spectrum van de zwarte straler. *(6 punten)*\n",
    "\n",
    "- Maak gebruik van de gedefinieerde functie voor de wet van Planck functie om het beste model spectrum te plotten\n",
    "- Voeg een legenda toe en zorg dat de temperatuur van het model in de legenda benoemd staat"
   ]
  },
  {
   "cell_type": "code",
   "execution_count": null,
   "id": "98107d70",
   "metadata": {
    "colab": {
     "base_uri": "https://localhost:8080/",
     "height": 392
    },
    "id": "98107d70",
    "outputId": "47644270-3490-4812-b6e6-ac6a72834414"
   },
   "outputs": [],
   "source": [
    "# ..."
   ]
  }
 ],
 "metadata": {
  "colab": {
   "provenance": []
  },
  "kernelspec": {
   "display_name": "Python 3",
   "language": "python",
   "name": "python3"
  },
  "language_info": {
   "codemirror_mode": {
    "name": "ipython",
    "version": 3
   },
   "file_extension": ".py",
   "mimetype": "text/x-python",
   "name": "python",
   "nbconvert_exporter": "python",
   "pygments_lexer": "ipython3",
   "version": "3.11.9"
  }
 },
 "nbformat": 4,
 "nbformat_minor": 5
}
